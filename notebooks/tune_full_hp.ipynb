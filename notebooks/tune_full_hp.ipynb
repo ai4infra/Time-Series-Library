{
  "cells": [
    {
      "cell_type": "code",
      "execution_count": 1,
      "metadata": {
        "colab": {
          "base_uri": "https://localhost:8080/"
        },
        "id": "sirEauGIj0N_",
        "outputId": "21fe0ae8-0a73-443d-834b-0cb8c9f3242e"
      },
      "outputs": [
        {
          "name": "stdout",
          "output_type": "stream",
          "text": [
            "Mounted at /content/drive\n"
          ]
        }
      ],
      "source": [
        "# from google.colab import drive\n",
        "# drive.mount('/content/drive')"
      ]
    },
    {
      "cell_type": "code",
      "execution_count": 2,
      "metadata": {
        "colab": {
          "base_uri": "https://localhost:8080/"
        },
        "id": "EzSPT8S5rnmL",
        "outputId": "d05f5e71-8863-4b36-f61c-36073088cae8"
      },
      "outputs": [
        {
          "name": "stdout",
          "output_type": "stream",
          "text": [
            "\u001b[2K     \u001b[90m━━━━━━━━━━━━━━━━━━━━━━━━━━━━━━━━━━━━━━━━\u001b[0m \u001b[32m62.5/62.5 MB\u001b[0m \u001b[31m10.8 MB/s\u001b[0m eta \u001b[36m0:00:00\u001b[0m\n",
            "\u001b[2K     \u001b[90m━━━━━━━━━━━━━━━━━━━━━━━━━━━━━━━━━━━━━━━━\u001b[0m \u001b[32m101.7/101.7 kB\u001b[0m \u001b[31m15.1 MB/s\u001b[0m eta \u001b[36m0:00:00\u001b[0m\n",
            "\u001b[?25h"
          ]
        }
      ],
      "source": [
        "!pip install -qq ray[tune]"
      ]
    },
    {
      "cell_type": "code",
      "execution_count": 3,
      "metadata": {
        "colab": {
          "base_uri": "https://localhost:8080/"
        },
        "id": "KFU7pZPbxHRB",
        "outputId": "5d6c81f8-874c-47c0-8c5b-d72063014205"
      },
      "outputs": [
        {
          "name": "stdout",
          "output_type": "stream",
          "text": [
            "\u001b[?25l     \u001b[90m━━━━━━━━━━━━━━━━━━━━━━━━━━━━━━━━━━━━━━━━\u001b[0m \u001b[32m0.0/966.0 kB\u001b[0m \u001b[31m?\u001b[0m eta \u001b[36m-:--:--\u001b[0m\r\u001b[2K     \u001b[91m━━━━\u001b[0m\u001b[91m╸\u001b[0m\u001b[90m━━━━━━━━━━━━━━━━━━━━━━━━━━━━━━━━━━━\u001b[0m \u001b[32m112.6/966.0 kB\u001b[0m \u001b[31m3.1 MB/s\u001b[0m eta \u001b[36m0:00:01\u001b[0m\r\u001b[2K     \u001b[91m━━━━━━━━━━━━━━━━━━━━━━━━━━━━━━━━━\u001b[0m\u001b[91m╸\u001b[0m\u001b[90m━━━━━━\u001b[0m \u001b[32m819.2/966.0 kB\u001b[0m \u001b[31m12.0 MB/s\u001b[0m eta \u001b[36m0:00:01\u001b[0m\r\u001b[2K     \u001b[90m━━━━━━━━━━━━━━━━━━━━━━━━━━━━━━━━━━━━━━━━\u001b[0m \u001b[32m966.0/966.0 kB\u001b[0m \u001b[31m11.9 MB/s\u001b[0m eta \u001b[36m0:00:00\u001b[0m\n",
            "\u001b[?25h"
          ]
        }
      ],
      "source": [
        "!pip install -qq  hyperopt==0.2.5"
      ]
    },
    {
      "cell_type": "code",
      "execution_count": 4,
      "metadata": {
        "colab": {
          "base_uri": "https://localhost:8080/"
        },
        "id": "TV7w_i6dczlF",
        "outputId": "f1838f7d-4e74-424b-acb5-12e6b93477ac"
      },
      "outputs": [
        {
          "name": "stdout",
          "output_type": "stream",
          "text": [
            "Cloning into 'Time-Series-Library'...\n",
            "remote: Enumerating objects: 1066, done.\u001b[K\n",
            "remote: Counting objects: 100% (603/603), done.\u001b[K\n",
            "remote: Compressing objects: 100% (68/68), done.\u001b[K\n",
            "remote: Total 1066 (delta 551), reused 535 (delta 535), pack-reused 463\u001b[K\n",
            "Receiving objects: 100% (1066/1066), 21.42 MiB | 20.93 MiB/s, done.\n",
            "Resolving deltas: 100% (773/773), done.\n"
          ]
        }
      ],
      "source": [
        "#!git clone https://github.com/zhouhaoyi/Informer2020.git\n",
        "!git clone -b test https://github.com/ai4infra/Time-Series-Library.git\n"
      ]
    },
    {
      "cell_type": "code",
      "execution_count": 1,
      "metadata": {
        "colab": {
          "base_uri": "https://localhost:8080/"
        },
        "id": "aW3IgCI8dopZ",
        "outputId": "a83c3624-a47e-4734-ec32-c3ea22d36f27"
      },
      "outputs": [
        {
          "name": "stdout",
          "output_type": "stream",
          "text": [
            "<class 'pandas.core.frame.DataFrame'>\n",
            "RangeIndex: 16129 entries, 0 to 16128\n",
            "Data columns (total 7 columns):\n",
            " #   Column  Non-Null Count  Dtype  \n",
            "---  ------  --------------  -----  \n",
            " 0   date    16129 non-null  object \n",
            " 1   AL      16129 non-null  float64\n",
            " 2   CL      16129 non-null  float64\n",
            " 3   OR      16129 non-null  float64\n",
            " 4   OW      16129 non-null  float64\n",
            " 5   BR      16129 non-null  float64\n",
            " 6   BW      16129 non-null  float64\n",
            "dtypes: float64(6), object(1)\n",
            "memory usage: 882.2+ KB\n"
          ]
        }
      ],
      "source": [
        "import pandas as pd\n",
        "full_data = pd.read_csv(\"/content/drive/MyDrive/Marjan_ceph_metrics_5min.csv\")\n",
        "#full_data=full_data[[\"ds\",\"y\"]]#\n",
        "#full_data[[\"y\"]] = full_data[[\"y\"]]\n",
        "#full_data = full_data[['timestamp', 'capacity_instance_ceph_osd_latency_sec_apply_avg']].head(11000)\n",
        "#full_data.columns = [\"date\",\"AL\", \"CL\", \"OR\", \"OW\", \"BR\", \"BW\"]\n",
        "# full_data.ds = pd.to_datetime(full_data.date)\n",
        "# full_data = full_data.drop_duplicates(subset=['date'])\n",
        "#full_data = full_data.fillna(method='ffill')\n",
        "#full_data.columns = [\"date\", \"LT\"]\n",
        "full_data = full_data[[\"date\",\"AL\", \"CL\", \"OR\", \"OW\", \"BR\", \"BW\"]]\n",
        "full_data.info()\n",
        "#full_data = full_data[[\"date\", \"LT\"]] #.head(9999)"
      ]
    },
    {
      "cell_type": "code",
      "execution_count": 6,
      "metadata": {
        "id": "zzdlXvWEd3ro"
      },
      "outputs": [],
      "source": [
        "full_data.to_csv(\"ceph-latency.csv\")"
      ]
    },
    {
      "cell_type": "markdown",
      "metadata": {
        "id": "A0ZHK-W2dC05"
      },
      "source": [
        "## CEPH Latency with Informer"
      ]
    },
    {
      "cell_type": "code",
      "execution_count": 11,
      "metadata": {
        "id": "lfhOKlwbdPsY"
      },
      "outputs": [],
      "source": [
        "import sys\n",
        "if not 'Time-Series-Library' in sys.path:\n",
        "    sys.path += ['Time-Series-Library']\n",
        "    %cd Time-Series-Library"
      ]
    },
    {
      "cell_type": "code",
      "execution_count": null,
      "metadata": {
        "colab": {
          "base_uri": "https://localhost:8080/"
        },
        "id": "zq_-OslZXIEn",
        "outputId": "8d6325e4-c169-48a8-c6f4-e1faadf5a71d"
      },
      "outputs": [
        {
          "name": "stdout",
          "output_type": "stream",
          "text": [
            "data\t    environment.yml  img      main_informer.py\tmodels\t   requirements.txt  utils\n",
            "Dockerfile  exp\t\t     LICENSE  Makefile\t\tREADME.md  scripts\n"
          ]
        }
      ],
      "source": [
        "!ls"
      ]
    },
    {
      "cell_type": "code",
      "execution_count": null,
      "metadata": {
        "id": "iA02VQGEgr5k"
      },
      "outputs": [],
      "source": [
        "!pip install -r requirements.txt\n",
        "#!pip install fastapi kaleido python-multipart uvicorn scipy==1.10.1"
      ]
    },
    {
      "cell_type": "code",
      "execution_count": 13,
      "metadata": {
        "id": "rpWsQJc9alUo"
      },
      "outputs": [],
      "source": [
        "import argparse\n",
        "import os\n",
        "import torch\n",
        "from exp.exp_long_term_forecasting import Exp_Long_Term_Forecast\n",
        "#from exp.exp_imputation import Exp_Imputation\n",
        "#from exp.exp_short_term_forecasting import Exp_Short_Term_Forecast\n",
        "#from exp.exp_anomaly_detection import Exp_Anomaly_Detection\n",
        "#from exp.exp_classification import Exp_Classification\n",
        "import random\n",
        "import numpy as np\n",
        "import argparse\n",
        "import os\n",
        "import torch\n",
        "import tempfile\n",
        "import random\n",
        "import numpy as np\n",
        "import os\n",
        "import argparse\n",
        "from filelock import FileLock\n",
        "import tempfile\n",
        "import torch\n",
        "import torch.nn as nn\n",
        "import torch.nn.functional as F\n",
        "import torch.optim as optim\n",
        "from torchvision import datasets, transforms\n",
        "\n",
        "import ray\n",
        "from ray import train, tune\n",
        "from ray.train import Checkpoint\n",
        "from ray.tune.schedulers import AsyncHyperBandScheduler"
      ]
    },
    {
      "cell_type": "code",
      "execution_count": 4,
      "metadata": {
        "id": "Mo-XcXpb7k49"
      },
      "outputs": [],
      "source": [
        "class dotdict(dict):\n",
        "    \"\"\"dot.notation access to dictionary attributes\"\"\"\n",
        "    __getattr__ = dict.get\n",
        "    __setattr__ = dict.__setitem__\n",
        "    __delattr__ = dict.__delitem__\n",
        "args = dotdict()"
      ]
    },
    {
      "cell_type": "code",
      "execution_count": 5,
      "metadata": {
        "id": "Fkaqwpveq9DE"
      },
      "outputs": [],
      "source": [
        "model_name = \"Informer\""
      ]
    },
    {
      "cell_type": "code",
      "execution_count": 6,
      "metadata": {
        "id": "YPAlPC7yTfZ-"
      },
      "outputs": [],
      "source": [
        "args.task_name=\"long_term_forecast\"\n",
        "args.data_path=\"ceph-latency.csv\"\n",
        "args.root_path=\"/content/\"\n",
        "args.is_training=1\n",
        "args.model_id=\"CEPHm1_96_96\"\n",
        "args.model=model_name\n",
        "args.data=\"custom\"\n",
        "args.target=\"CL\"\n",
        "args.features=\"M\"\n",
        "args.seq_len=96\n",
        "args.label_len=24\n",
        "args.pred_len=96\n",
        "args.d_model=512\n",
        "args.n_heads=8\n",
        "args.e_layers=3\n",
        "args.d_layers=2\n",
        "args.enc_in=1\n",
        "args.dec_in=1\n",
        "args.c_out=1\n",
        "args.d_ff=2048\n",
        "args.freq=\"t\"\n",
        "args.moving_avg=25\n",
        "args.factor=8\n",
        "args.embed='timeF'\n",
        "args.distil=True\n",
        "args.des='Exp'\n",
        "args.checkpoints=f\"saved_model/{model_name}\"\n",
        "args.seasonal_patterns=\"Daily\"\n",
        "args.inverse= False #True\n",
        "args.anomaly_ratio=0.25\n",
        "args.mask_ratio=0.25\n",
        "args.top_k=5\n",
        "args.num_kernels=6\n",
        "args.dropout=0.02\n",
        "args.activation=\"gelu\"\n",
        "args.output_attention=False\n",
        "args.num_workers=10\n",
        "args.itr=1\n",
        "args.train_epochs=300\n",
        "args.batch_size=32\n",
        "args.patience=3\n",
        "args.learning_rate=1e-4\n",
        "args.loss =\"MSE\"\n",
        "args.lradj=\"type2\"\n",
        "args.use_amp=False\n",
        "# GPU\n",
        "args.use_gpu = True if torch.cuda.is_available() else False\n",
        "args.gpu=0\n",
        "args.use_multi_gpu=False\n",
        "args.devices='0,1,2,3'\n",
        "args.p_hidden_dims=[128, 128]\n",
        "args.p_hidden_layers=2\n"
      ]
    },
    {
      "cell_type": "code",
      "execution_count": 7,
      "metadata": {
        "id": "3gm1yV9hTfWu"
      },
      "outputs": [],
      "source": [
        "if args.task_name == 'long_term_forecast':\n",
        "        Exp = Exp_Long_Term_Forecast"
      ]
    },
    {
      "cell_type": "code",
      "execution_count": 25,
      "metadata": {
        "id": "nX88KXBtTfTN"
      },
      "outputs": [],
      "source": [
        "def train_func1(config):\n",
        "    args = dotdict()\n",
        "    ii=0\n",
        "    args.task_name=\"long_term_forecast\"\n",
        "    args.data_path=\"ceph-latency.csv\"\n",
        "    args.root_path=\"/content/\"\n",
        "    args.is_training=1\n",
        "    args.model_id=\"CEPHm1_96_96\"\n",
        "    args.model=model_name\n",
        "    args.data=\"custom\"\n",
        "    args.target=\"CL\"\n",
        "    args.features=\"M\"\n",
        "    args.seq_len=96\n",
        "    args.label_len=24\n",
        "    args.pred_len=96\n",
        "    args.d_model=512\n",
        "    args.n_heads=8\n",
        "    args.e_layers=3\n",
        "    args.d_layers=2\n",
        "    args.enc_in=1\n",
        "    args.dec_in=1\n",
        "    args.c_out=1\n",
        "    args.d_ff=2048\n",
        "    args.freq=\"t\"\n",
        "    args.moving_avg=25\n",
        "    args.factor=8\n",
        "    args.embed='timeF'\n",
        "    args.distil=True\n",
        "    args.des='Exp'\n",
        "    args.checkpoints=f\"saved_model/{model_name}\"\n",
        "    args.seasonal_patterns=\"Daily\"\n",
        "    args.inverse= False #True\n",
        "    args.anomaly_ratio=0.25\n",
        "    args.mask_ratio=0.25\n",
        "    args.top_k=5\n",
        "    args.num_kernels=6\n",
        "    args.dropout=0.02\n",
        "    args.activation=\"gelu\"\n",
        "    args.output_attention=False\n",
        "    args.num_workers=10\n",
        "    args.itr=1\n",
        "    args.train_epochs=300\n",
        "    args.batch_size=32\n",
        "    args.patience=3\n",
        "    args.learning_rate=1e-4\n",
        "    args.loss =\"MSE\"\n",
        "    args.lradj=\"type2\"\n",
        "    args.use_amp=False\n",
        "    # GPU\n",
        "    args.use_gpu = True if torch.cuda.is_available() else False\n",
        "    args.gpu=0\n",
        "    args.use_multi_gpu=True\n",
        "    args.devices='0,1,2,3'\n",
        "    args.p_hidden_dims=[128, 128]\n",
        "    args.p_hidden_layers=2\n",
        "\n",
        "    # GPU\n",
        "    args.use_gpu = True\n",
        "    args.gpu=0\n",
        "    args.use_multi_gpu=False\n",
        "    args.devices='0,1,2,3'\n",
        "    args.detail_freq=\"t\"\n",
        "    should_checkpoint = config.get(\"should_checkpoint\", False)\n",
        "    args.n_heads=config[\"n_heads\"]\n",
        "    args.e_layers=config[\"e_layers\"]\n",
        "    args.d_layers=config[\"d_layers\"]\n",
        "    args.factor= config[\"factor\"]\n",
        "    args.seq_len=config[\"seq_len\"]\n",
        "    args.label_len=config[\"label_len\"]\n",
        "    args.pred_len=config[\"pred_len\"]\n",
        "    setting = '{}_{}_ft{}_sl{}_ll{}_pl{}_dm{}_nh{}_el{}_dl{}_df{}_at{}_fc{}_eb{}_dt{}_mx{}_{}_{}'.format(args.model, args.data,\n",
        "                                                                                                         args.features,\n",
        "                args.seq_len, args.label_len, args.pred_len,\n",
        "                args.d_model, args.n_heads, args.e_layers, args.d_layers, args.d_ff, args.attn, args.factor, args.embed,\n",
        "                args.distil, args.mix, args.des, ii)\n",
        "\n",
        "    exp =  Exp_Long_Term_Forecast(args)\n",
        "    while True:\n",
        "        print('>>>>>>>start training : {}>>>>>>>>>>>>>>>>>>>>>>>>>>'.format(setting))\n",
        "         # set experiments\n",
        "        exp.train(setting)\n",
        "        print('>>>>>>>testing : {}<<<<<<<<<<<<<<<<<<<<<<<<<<<<<<<<<'.format(setting))\n",
        "        metrics = exp.test(setting)\n",
        "        #metrics = metrics\n",
        "        # Report metrics (and possibly a checkpoint)\n",
        "        if should_checkpoint:\n",
        "            with tempfile.TemporaryDirectory() as tempdir:\n",
        "                torch.save(model.state_dict(), os.path.join(tempdir, \"model.pt\"))\n",
        "                train.report(metrics, checkpoint=Checkpoint.from_directory(tempdir))\n",
        "        else:\n",
        "            train.report(metrics)\n",
        "\n",
        "\n"
      ]
    },
    {
      "cell_type": "code",
      "execution_count": 27,
      "metadata": {
        "id": "Hsh552XM_KTE"
      },
      "outputs": [],
      "source": [
        "ray.shutdown()"
      ]
    },
    {
      "cell_type": "code",
      "execution_count": 28,
      "metadata": {
        "colab": {
          "base_uri": "https://localhost:8080/",
          "height": 76
        },
        "id": "U93G5yXFHf0e",
        "outputId": "c459e558-f916-425a-c4b6-4f7053ef7886"
      },
      "outputs": [
        {
          "name": "stderr",
          "output_type": "stream",
          "text": [
            "2023-11-20 08:11:08,420\tINFO worker.py:1673 -- Started a local Ray instance.\n"
          ]
        },
        {
          "data": {
            "text/html": [
              "<div class=\"lm-Widget p-Widget lm-Panel p-Panel jp-Cell-outputWrapper\">\n",
              "    <div style=\"margin-left: 50px;display: flex;flex-direction: row;align-items: center\">\n",
              "        <div class=\"jp-RenderedHTMLCommon\" style=\"display: flex; flex-direction: row;\">\n",
              "  <svg viewBox=\"0 0 567 224\" fill=\"none\" xmlns=\"http://www.w3.org/2000/svg\" style=\"height: 3em;\">\n",
              "    <g clip-path=\"url(#clip0_4338_178347)\">\n",
              "        <path d=\"M341.29 165.561H355.29L330.13 129.051C345.63 123.991 354.21 112.051 354.21 94.2307C354.21 71.3707 338.72 58.1807 311.88 58.1807H271V165.561H283.27V131.661H311.8C314.25 131.661 316.71 131.501 319.01 131.351L341.25 165.561H341.29ZM283.29 119.851V70.0007H311.82C331.3 70.0007 342.34 78.2907 342.34 94.5507C342.34 111.271 331.34 119.861 311.82 119.861L283.29 119.851ZM451.4 138.411L463.4 165.561H476.74L428.74 58.1807H416L367.83 165.561H380.83L392.83 138.411H451.4ZM446.19 126.601H398L422 72.1407L446.24 126.601H446.19ZM526.11 128.741L566.91 58.1807H554.35L519.99 114.181L485.17 58.1807H472.44L514.01 129.181V165.541H526.13V128.741H526.11Z\" fill=\"var(--jp-ui-font-color0)\"/>\n",
              "        <path d=\"M82.35 104.44C84.0187 97.8827 87.8248 92.0678 93.1671 87.9146C98.5094 83.7614 105.083 81.5067 111.85 81.5067C118.617 81.5067 125.191 83.7614 130.533 87.9146C135.875 92.0678 139.681 97.8827 141.35 104.44H163.75C164.476 101.562 165.622 98.8057 167.15 96.2605L127.45 56.5605C121.071 60.3522 113.526 61.6823 106.235 60.3005C98.9443 58.9187 92.4094 54.9203 87.8602 49.0574C83.3109 43.1946 81.0609 35.8714 81.5332 28.4656C82.0056 21.0599 85.1679 14.0819 90.4252 8.8446C95.6824 3.60726 102.672 0.471508 110.08 0.0272655C117.487 -0.416977 124.802 1.86091 130.647 6.4324C136.493 11.0039 140.467 17.5539 141.821 24.8501C143.175 32.1463 141.816 39.6859 138 46.0505L177.69 85.7505C182.31 82.9877 187.58 81.4995 192.962 81.4375C198.345 81.3755 203.648 82.742 208.33 85.3976C213.012 88.0532 216.907 91.9029 219.616 96.5544C222.326 101.206 223.753 106.492 223.753 111.875C223.753 117.258 222.326 122.545 219.616 127.197C216.907 131.848 213.012 135.698 208.33 138.353C203.648 141.009 198.345 142.375 192.962 142.313C187.58 142.251 182.31 140.763 177.69 138L138 177.7C141.808 184.071 143.155 191.614 141.79 198.91C140.424 206.205 136.44 212.75 130.585 217.313C124.731 221.875 117.412 224.141 110.004 223.683C102.596 223.226 95.6103 220.077 90.3621 214.828C85.1139 209.58 81.9647 202.595 81.5072 195.187C81.0497 187.779 83.3154 180.459 87.878 174.605C92.4405 168.751 98.9853 164.766 106.281 163.401C113.576 162.035 121.119 163.383 127.49 167.19L167.19 127.49C165.664 124.941 164.518 122.182 163.79 119.3H141.39C139.721 125.858 135.915 131.673 130.573 135.826C125.231 139.98 118.657 142.234 111.89 142.234C105.123 142.234 98.5494 139.98 93.2071 135.826C87.8648 131.673 84.0587 125.858 82.39 119.3H60C58.1878 126.495 53.8086 132.78 47.6863 136.971C41.5641 141.163 34.1211 142.972 26.7579 142.059C19.3947 141.146 12.6191 137.574 7.70605 132.014C2.79302 126.454 0.0813599 119.29 0.0813599 111.87C0.0813599 104.451 2.79302 97.2871 7.70605 91.7272C12.6191 86.1673 19.3947 82.5947 26.7579 81.6817C34.1211 80.7686 41.5641 82.5781 47.6863 86.7696C53.8086 90.9611 58.1878 97.2456 60 104.44H82.35ZM100.86 204.32C103.407 206.868 106.759 208.453 110.345 208.806C113.93 209.159 117.527 208.258 120.522 206.256C123.517 204.254 125.725 201.276 126.771 197.828C127.816 194.38 127.633 190.677 126.253 187.349C124.874 184.021 122.383 181.274 119.205 179.577C116.027 177.88 112.359 177.337 108.826 178.042C105.293 178.746 102.113 180.654 99.8291 183.44C97.5451 186.226 96.2979 189.718 96.3 193.32C96.2985 195.364 96.7006 197.388 97.4831 199.275C98.2656 201.163 99.4132 202.877 100.86 204.32ZM204.32 122.88C206.868 120.333 208.453 116.981 208.806 113.396C209.159 109.811 208.258 106.214 206.256 103.219C204.254 100.223 201.275 98.0151 197.827 96.97C194.38 95.9249 190.676 96.1077 187.348 97.4873C184.02 98.8669 181.274 101.358 179.577 104.536C177.879 107.714 177.337 111.382 178.041 114.915C178.746 118.448 180.653 121.627 183.439 123.911C186.226 126.195 189.717 127.443 193.32 127.44C195.364 127.443 197.388 127.042 199.275 126.259C201.163 125.476 202.878 124.328 204.32 122.88ZM122.88 19.4205C120.333 16.8729 116.981 15.2876 113.395 14.9347C109.81 14.5817 106.213 15.483 103.218 17.4849C100.223 19.4868 98.0146 22.4654 96.9696 25.9131C95.9245 29.3608 96.1073 33.0642 97.4869 36.3922C98.8665 39.7202 101.358 42.4668 104.535 44.1639C107.713 45.861 111.381 46.4036 114.914 45.6992C118.447 44.9949 121.627 43.0871 123.911 40.301C126.195 37.515 127.442 34.0231 127.44 30.4205C127.44 28.3772 127.038 26.3539 126.255 24.4664C125.473 22.5788 124.326 20.8642 122.88 19.4205ZM19.42 100.86C16.8725 103.408 15.2872 106.76 14.9342 110.345C14.5813 113.93 15.4826 117.527 17.4844 120.522C19.4863 123.518 22.4649 125.726 25.9127 126.771C29.3604 127.816 33.0638 127.633 36.3918 126.254C39.7198 124.874 42.4664 122.383 44.1635 119.205C45.8606 116.027 46.4032 112.359 45.6988 108.826C44.9944 105.293 43.0866 102.114 40.3006 99.8296C37.5145 97.5455 34.0227 96.2983 30.42 96.3005C26.2938 96.3018 22.337 97.9421 19.42 100.86ZM100.86 100.86C98.3125 103.408 96.7272 106.76 96.3742 110.345C96.0213 113.93 96.9226 117.527 98.9244 120.522C100.926 123.518 103.905 125.726 107.353 126.771C110.8 127.816 114.504 127.633 117.832 126.254C121.16 124.874 123.906 122.383 125.604 119.205C127.301 116.027 127.843 112.359 127.139 108.826C126.434 105.293 124.527 102.114 121.741 99.8296C118.955 97.5455 115.463 96.2983 111.86 96.3005C109.817 96.299 107.793 96.701 105.905 97.4835C104.018 98.2661 102.303 99.4136 100.86 100.86Z\" fill=\"#00AEEF\"/>\n",
              "    </g>\n",
              "    <defs>\n",
              "        <clipPath id=\"clip0_4338_178347\">\n",
              "            <rect width=\"566.93\" height=\"223.75\" fill=\"white\"/>\n",
              "        </clipPath>\n",
              "    </defs>\n",
              "  </svg>\n",
              "</div>\n",
              "\n",
              "        <table class=\"jp-RenderedHTMLCommon\" style=\"border-collapse: collapse;color: var(--jp-ui-font-color1);font-size: var(--jp-ui-font-size1);\">\n",
              "    <tr>\n",
              "        <td style=\"text-align: left\"><b>Python version:</b></td>\n",
              "        <td style=\"text-align: left\"><b>3.10.12</b></td>\n",
              "    </tr>\n",
              "    <tr>\n",
              "        <td style=\"text-align: left\"><b>Ray version:</b></td>\n",
              "        <td style=\"text-align: left\"><b>2.8.0</b></td>\n",
              "    </tr>\n",
              "    \n",
              "</table>\n",
              "\n",
              "    </div>\n",
              "</div>\n"
            ],
            "text/plain": [
              "RayContext(dashboard_url='', python_version='3.10.12', ray_version='2.8.0', ray_commit='105355bd253d6538ed34d331f6a4bdf0e38ace3a', protocol_version=None)"
            ]
          },
          "execution_count": 28,
          "metadata": {},
          "output_type": "execute_result"
        }
      ],
      "source": [
        "args.cuda= True\n",
        "args.smoke_test = False\n",
        "ray.init(num_cpus=2 if args.smoke_test else None)"
      ]
    },
    {
      "cell_type": "code",
      "execution_count": null,
      "metadata": {
        "colab": {
          "base_uri": "https://localhost:8080/"
        },
        "id": "_FKEiLQOTNNq",
        "outputId": "1a6b846c-4b6f-4165-da5f-a015d06cf2d7"
      },
      "outputs": [
        {
          "name": "stderr",
          "output_type": "stream",
          "text": [
            "2023-11-20 08:11:11,079\tINFO tune.py:595 -- [output] This will use the new output engine with verbosity 1. To disable the new output and use the legacy output engine, set the environment variable RAY_AIR_NEW_OUTPUT=0. For more information, please see https://github.com/ray-project/ray/issues/36949\n"
          ]
        },
        {
          "name": "stdout",
          "output_type": "stream",
          "text": [
            "+----------------------------------------------------------+\n",
            "| Configuration for experiment     Informer                |\n",
            "+----------------------------------------------------------+\n",
            "| Search algorithm                 SearchGenerator         |\n",
            "| Scheduler                        AsyncHyperBandScheduler |\n",
            "| Number of trials                 50                      |\n",
            "+----------------------------------------------------------+\n",
            "\n",
            "View detailed results here: /root/ray_results/Informer\n",
            "To visualize your results with TensorBoard, run: `tensorboard --logdir /root/ray_results/Informer`\n",
            "\n",
            "Trial status: 1 PENDING\n",
            "Current time: 2023-11-20 08:11:11. Total running time: 0s\n",
            "Logical resource usage: 0/2 CPUs, 0/1 GPUs\n",
            "+-------------------------------------------------------------------------------------------------------------------------+\n",
            "| Trial name             status       n_heads     e_layers     d_layers     seq_len     label_len     pred_len     factor |\n",
            "+-------------------------------------------------------------------------------------------------------------------------+\n",
            "| train_func1_498f4dff   PENDING            8            2            2          24            24           24          3 |\n",
            "+-------------------------------------------------------------------------------------------------------------------------+\n",
            "\n",
            "Trial train_func1_498f4dff started with configuration:\n",
            "+------------------------------------------+\n",
            "| Trial train_func1_498f4dff config        |\n",
            "+------------------------------------------+\n",
            "| d_layers                               2 |\n",
            "| e_layers                               2 |\n",
            "| factor                                 3 |\n",
            "| label_len                             24 |\n",
            "| n_heads                                8 |\n",
            "| pred_len                              24 |\n",
            "| seq_len                               24 |\n",
            "+------------------------------------------+\n",
            "\u001b[36m(train_func1 pid=14049)\u001b[0m Use GPU: cuda:0\n",
            "\u001b[36m(train_func1 pid=14049)\u001b[0m >>>>>>>start training : Autoformer_custom_ftS_sl24_ll24_pl24_dm512_nh8_el2_dl2_df2048_atNone_fc3_ebtimeF_dtTrue_mxNone_Exp_0>>>>>>>>>>>>>>>>>>>>>>>>>>\n",
            "\u001b[36m(train_func1 pid=14049)\u001b[0m train 11243\n",
            "\u001b[36m(train_func1 pid=14049)\u001b[0m val 1591\n",
            "\u001b[36m(train_func1 pid=14049)\u001b[0m test 3202\n",
            "\n",
            "Trial status: 1 RUNNING | 1 PENDING\n",
            "Current time: 2023-11-20 08:11:41. Total running time: 30s\n",
            "Logical resource usage: 2.0/2 CPUs, 0.4/1 GPUs\n",
            "+-------------------------------------------------------------------------------------------------------------------------+\n",
            "| Trial name             status       n_heads     e_layers     d_layers     seq_len     label_len     pred_len     factor |\n",
            "+-------------------------------------------------------------------------------------------------------------------------+\n",
            "| train_func1_498f4dff   RUNNING            8            2            2          24            24           24          3 |\n",
            "| train_func1_9c8fc891   PENDING            8            2            2          24            24           24          3 |\n",
            "+-------------------------------------------------------------------------------------------------------------------------+\n",
            "\u001b[36m(train_func1 pid=14049)\u001b[0m \titers: 100, epoch: 1 | loss: 0.6003139\n",
            "\u001b[36m(train_func1 pid=14049)\u001b[0m \tspeed: 0.1845s/iter; left time: 19411.2003s\n",
            "\u001b[36m(train_func1 pid=14049)\u001b[0m \titers: 200, epoch: 1 | loss: 0.7345149\n",
            "\u001b[36m(train_func1 pid=14049)\u001b[0m \tspeed: 0.0912s/iter; left time: 9586.1954s\n",
            "\u001b[36m(train_func1 pid=14049)\u001b[0m \titers: 300, epoch: 1 | loss: 0.6438421\n",
            "\u001b[36m(train_func1 pid=14049)\u001b[0m \tspeed: 0.0843s/iter; left time: 8856.2520s\n",
            "\u001b[36m(train_func1 pid=14049)\u001b[0m Epoch: 1 cost time: 39.1914746761322\n",
            "Trial status: 1 RUNNING | 1 PENDING\n",
            "Current time: 2023-11-20 08:12:11. Total running time: 1min 0s\n",
            "Logical resource usage: 2.0/2 CPUs, 0.4/1 GPUs\n",
            "+-------------------------------------------------------------------------------------------------------------------------+\n",
            "| Trial name             status       n_heads     e_layers     d_layers     seq_len     label_len     pred_len     factor |\n",
            "+-------------------------------------------------------------------------------------------------------------------------+\n",
            "| train_func1_498f4dff   RUNNING            8            2            2          24            24           24          3 |\n",
            "| train_func1_9c8fc891   PENDING            8            2            2          24            24           24          3 |\n",
            "+-------------------------------------------------------------------------------------------------------------------------+\n"
          ]
        }
      ],
      "source": [
        "!export RAY_AIR_NEW_OUTPUT=0\n",
        "from ray.tune.search.hyperopt import HyperOptSearch\n",
        "from ray.tune.search import ConcurrencyLimiter\n",
        "\n",
        "\n",
        "# for early stopping\n",
        "sched = AsyncHyperBandScheduler()\n",
        "\n",
        "initial_params = [{\n",
        "            \"n_heads\":  8,\n",
        "            \"e_layers\": 2,\n",
        "            \"d_layers\": 2,\n",
        "            \"seq_len\": 24,\n",
        "            \"label_len\": 24,\n",
        "            \"pred_len\": 24,\n",
        "            \"factor\": 3,\n",
        "\n",
        "}]\n",
        "resources_per_trial = {\"cpu\": 2, \"gpu\": 0.4}\n",
        "algo = HyperOptSearch(points_to_evaluate=initial_params)\n",
        "algo = ConcurrencyLimiter(algo, max_concurrent=4)\n",
        "\n",
        "tuner = tune.Tuner(\n",
        "        tune.with_resources(train_func1, resources=resources_per_trial),\n",
        "        tune_config=tune.TuneConfig(\n",
        "            metric=\"mse\",\n",
        "            mode=\"min\",\n",
        "            scheduler=sched,\n",
        "            num_samples= 50,\n",
        "            search_alg=algo,\n",
        "        ),\n",
        "        run_config=train.RunConfig(\n",
        "            name=model_name,\n",
        "            stop={\n",
        "                \"mse\": 0.0005,\n",
        "                \"training_iteration\": 100,\n",
        "            },\n",
        "        ),\n",
        "        #  param_space={\n",
        "        #     \"n_heads\":  tune.choice([8,16]),\n",
        "        #     \"e_layers\":  tune.choice([6, 4, 3, 2]),\n",
        "        #     \"d_layers\": tune.choice([2]),\n",
        "        #     \"seq_len\": tune.choice([24, 48, 96, 192, 288, 480, 672]),\n",
        "        #     \"label_len\": tune.choice([24, 48, 96, 192, 288, 480, 672]),\n",
        "        #     \"pred_len\": tune.choice([96, 192, 288, 480, 672]),\n",
        "        #     \"factor\": tune.choice([3,5,8,10]),\n",
        "\n",
        "        # },\n",
        "        param_space={\n",
        "            \"n_heads\":  tune.choice([8]),\n",
        "            \"e_layers\":  tune.choice([2]),\n",
        "            \"d_layers\": tune.choice([2]),\n",
        "            \"seq_len\": tune.choice([24]),\n",
        "            \"label_len\": tune.choice([24]),\n",
        "            \"pred_len\": tune.choice([24]),\n",
        "            \"factor\": tune.choice([3]),\n",
        "        },\n",
        "      )\n",
        "results = tuner.fit()\n",
        "\n",
        "print(\"Best config is:\", results.get_best_result().config)"
      ]
    },
    {
      "cell_type": "code",
      "execution_count": null,
      "metadata": {
        "id": "aqJ-DDI5kPTl"
      },
      "outputs": [],
      "source": [
        "#!bash ./scripts/long_term_forecast/ceph/Autoformer.sh"
      ]
    },
    {
      "cell_type": "markdown",
      "metadata": {
        "id": "OkM9Q2cmdT4A"
      },
      "source": [
        "## Experiments: Train and Test"
      ]
    },
    {
      "cell_type": "code",
      "execution_count": null,
      "metadata": {
        "id": "8wDXbK4ngL_9"
      },
      "outputs": [],
      "source": [
        "# from data.data_loader import Dataset_Custom\n",
        "# from torch.utils.data import DataLoader\n",
        "# import pandas as pd\n",
        "# import os"
      ]
    },
    {
      "cell_type": "code",
      "execution_count": null,
      "metadata": {
        "id": "vLkerWrLfW0S"
      },
      "outputs": [],
      "source": [
        "# args = dotdict()\n",
        "# # we take ETTh2 as an example\n",
        "# args.root_path = '../content'\n",
        "# args.data_path = 'ceph-latency.csv'\n",
        "\n",
        "# df = pd.read_csv(os.path.join(args.root_path, args.data_path))\n"
      ]
    },
    {
      "cell_type": "code",
      "execution_count": null,
      "metadata": {
        "id": "OJkw6UlpnLOM"
      },
      "outputs": [],
      "source": [
        "# df[\"LT\"].plot()"
      ]
    },
    {
      "cell_type": "code",
      "execution_count": null,
      "metadata": {
        "id": "Cta8-Jzjf7lG"
      },
      "outputs": [],
      "source": [
        "# df = df[[\"date\", \"LT\"]]\n",
        "# df.describe()"
      ]
    },
    {
      "cell_type": "code",
      "execution_count": null,
      "metadata": {
        "id": "iFqdRxKYg-D9"
      },
      "outputs": [],
      "source": [
        "# df.info()"
      ]
    },
    {
      "cell_type": "code",
      "execution_count": null,
      "metadata": {
        "id": "_6oBVIoghcFv"
      },
      "outputs": [],
      "source": [
        "# '''\n",
        "# We set 'HULL' as target instead of 'OT'\n",
        "\n",
        "# The following frequencies are supported:\n",
        "#         Y   - yearly\n",
        "#             alias: A\n",
        "#         M   - monthly\n",
        "#         W   - weekly\n",
        "#         D   - daily\n",
        "#         B   - business days\n",
        "#         H   - hourly\n",
        "#         T   - minutely\n",
        "#             alias: min\n",
        "#         S   - secondly\n",
        "# '''\n",
        "\n",
        "# args.target = 'LT'\n",
        "# args.freq = 't'\n",
        "# args.seq_len = 96\n",
        "# args.label_len = 48\n",
        "# args.pred_len = 24\n",
        "# args.features = \"S\"\n",
        "# args.num_workers = 0\n",
        "\n",
        "# Data = Dataset_Custom\n",
        "# timeenc = 0 if args.embed!='timeF' else 1\n",
        "# flag = 'test'; shuffle_flag = False; drop_last = True; batch_size = 1\n",
        "\n",
        "# data_set = Data(\n",
        "#     root_path=args.root_path,\n",
        "#     data_path=args.data_path,\n",
        "#     flag=flag,\n",
        "#     size=[args.seq_len, args.label_len, args.pred_len],\n",
        "#     features=args.features,\n",
        "#     timeenc=timeenc,\n",
        "#     target=args.target, # HULL here\n",
        "#     freq=\"t\" # 'h': hourly, 't':minutely\n",
        "# )\n",
        "# data_loader = DataLoader(\n",
        "#     data_set,\n",
        "#     batch_size=batch_size,\n",
        "#     shuffle=shuffle_flag,\n",
        "#     num_workers=args.num_workers,\n",
        "#     drop_last=drop_last)"
      ]
    },
    {
      "cell_type": "code",
      "execution_count": null,
      "metadata": {
        "id": "YLcZZMwydZmw"
      },
      "outputs": [],
      "source": [
        "# #args = dotdict()\n",
        "\n",
        "# args.model = 'informer' # model of experiment, options: [informer, informerstack, informerlight(TBD)]\n",
        "\n",
        "# args.data = 'custom' # data\n",
        "# #args.root_path = './ETDataset/ETT-small/' # root path of data file\n",
        "# #args.data_path = 'ETTh1.csv' # data file\n",
        "# #args.features = 'M' # forecasting task, options:[M, S, MS]; M:multivariate predict multivariate, S:univariate predict univariate, MS:multivariate predict univariate\n",
        "# #args.target = 'OT' # target feature in S or MS task\n",
        "# #args.freq = 'h' # freq for time features encoding, options:[s:secondly, t:minutely, h:hourly, d:daily, b:business days, w:weekly, m:monthly], you can also use more detailed freq like 15min or 3h\n",
        "# args.checkpoints = './CEPH_informer_checkpoints' # location of model checkpoints\n",
        "\n",
        "# args.seq_len = 96 # input sequence length of Informer encoder\n",
        "# args.label_len = 48 # start token length of Informer decoder\n",
        "# args.pred_len = 24 # prediction sequence length\n",
        "# # Informer decoder input: concat[start token series(label_len), zero padding series(pred_len)]\n",
        "\n",
        "# args.enc_in = 7 # encoder input size\n",
        "# args.dec_in = 7 # decoder input size\n",
        "# args.c_out = 7 # output size\n",
        "# args.factor = 5 # probsparse attn factor\n",
        "# args.d_model = 512 # dimension of model\n",
        "# args.n_heads = 8 # num of heads\n",
        "# args.e_layers = 3 #2 # num of encoder layers\n",
        "# args.d_layers = 2 # # num of decoder layers\n",
        "# args.d_ff = 2048 # dimension of fcn in model\n",
        "# args.dropout = 0.05 # dropout\n",
        "# args.attn = 'prob' # attention used in encoder, options:[prob, full]\n",
        "# args.embed = 'timeF' # time features encoding, options:[timeF, fixed, learned]\n",
        "# args.activation = 'gelu' # activation\n",
        "# args.distil = True # whether to use distilling in encoder\n",
        "# args.output_attention = False # whether to output attention in ecoder\n",
        "# args.mix = True\n",
        "# args.padding = 0\n",
        "# args.freq = 't'\n",
        "\n",
        "# args.batch_size = 32\n",
        "# args.learning_rate = 0.0001\n",
        "# args.loss = 'mse'\n",
        "# args.lradj = 'type1'\n",
        "# args.use_amp = False # whether to use automatic mixed precision training\n",
        "\n",
        "# args.num_workers = 0\n",
        "# args.itr = 1\n",
        "# args.train_epochs = 25 #50\n",
        "# args.patience = 5\n",
        "# args.des = 'exp'\n",
        "\n",
        "# args.use_gpu = True if torch.cuda.is_available() else False\n",
        "# args.gpu = 0\n",
        "\n",
        "# args.use_multi_gpu = False\n",
        "# args.devices = '0,1,2,3'\n"
      ]
    },
    {
      "cell_type": "code",
      "execution_count": null,
      "metadata": {
        "id": "irkcGcinjxFS"
      },
      "outputs": [],
      "source": [
        "# args.use_gpu = True if torch.cuda.is_available() and args.use_gpu else False\n",
        "\n",
        "# if args.use_gpu and args.use_multi_gpu:\n",
        "#     args.devices = args.devices.replace(' ','')\n",
        "#     device_ids = args.devices.split(',')\n",
        "#     args.device_ids = [int(id_) for id_ in device_ids]\n",
        "#     args.gpu = args.device_ids[0]"
      ]
    },
    {
      "cell_type": "code",
      "execution_count": null,
      "metadata": {
        "id": "cevd49RFksPf"
      },
      "outputs": [],
      "source": [
        "# # Set augments by using data name\n",
        "# data_parser = {\n",
        "#     'custom':{'data':'ceph-latency.csv','T':'LT','S':[1,1,1]},\n",
        "\n",
        "# }\n",
        "# if args.data in data_parser.keys():\n",
        "#     data_info = data_parser[args.data]\n",
        "#     args.data_path = data_info['data']\n",
        "#     args.target = data_info['T']\n",
        "#     args.enc_in, args.dec_in, args.c_out = data_info[args.features]"
      ]
    },
    {
      "cell_type": "code",
      "execution_count": null,
      "metadata": {
        "id": "HjMHHK2vk2F5"
      },
      "outputs": [],
      "source": [
        "# args.detail_freq = args.freq\n",
        "# args.freq = args.freq[-1:]"
      ]
    },
    {
      "cell_type": "code",
      "execution_count": null,
      "metadata": {
        "id": "FbU4fLJPk7QJ"
      },
      "outputs": [],
      "source": [
        "# print('Args in experiment:')\n",
        "# print(args)"
      ]
    },
    {
      "cell_type": "code",
      "execution_count": null,
      "metadata": {
        "id": "zV_wNLUTlhJx"
      },
      "outputs": [],
      "source": [
        "# Exp = Exp_Informer"
      ]
    },
    {
      "cell_type": "code",
      "execution_count": null,
      "metadata": {
        "id": "fW_bTReelVKB"
      },
      "outputs": [],
      "source": [
        "# for ii in range(args.itr):\n",
        "#     # setting record of experiments\n",
        "#     setting = '{}_{}_ft{}_sl{}_ll{}_pl{}_dm{}_nh{}_el{}_dl{}_df{}_at{}_fc{}_eb{}_dt{}_mx{}_{}_{}'.format(args.model, args.data, args.features,\n",
        "#                 args.seq_len, args.label_len, args.pred_len,\n",
        "#                 args.d_model, args.n_heads, args.e_layers, args.d_layers, args.d_ff, args.attn, args.factor, args.embed, args.distil, args.mix, args.des, ii)\n",
        "\n",
        "#     # set experiments\n",
        "#     exp = Exp(args)\n",
        "\n",
        "#     # train\n",
        "#     print('>>>>>>>start training : {}>>>>>>>>>>>>>>>>>>>>>>>>>>'.format(setting))\n",
        "#     exp.train(setting)\n",
        "\n",
        "#     # test\n",
        "#     print('>>>>>>>testing : {}<<<<<<<<<<<<<<<<<<<<<<<<<<<<<<<<<'.format(setting))\n",
        "#     exp.test(setting)\n",
        "\n",
        "#     torch.cuda.empty_cache()"
      ]
    },
    {
      "cell_type": "code",
      "execution_count": null,
      "metadata": {
        "id": "s0YI1zx6ACiz"
      },
      "outputs": [],
      "source": [
        "# import os\n",
        "\n",
        "# # set saved model path\n",
        "# setting = 'long_term_forecast_CEPHm1_96_96_Autoformer_custom_ftS_sl96_ll48_pl96_dm512_nh8_el2_dl1_df2048_fc3_ebtimeF_dtTrue_Exp_0'\n",
        "# path = os.path.join(args.checkpoints,setting,'checkpoint.pth')"
      ]
    },
    {
      "cell_type": "code",
      "execution_count": null,
      "metadata": {
        "id": "nTkluNNcyMJt"
      },
      "outputs": [],
      "source": [
        "# # If you already have a trained model, you can set the arguments and model path, then initialize a Experiment and use it to predict\n",
        "# # Prediction is a sequence which is adjacent to the last date of the data, and does not exist in the data\n",
        "# # If you want to get more information about prediction, you can refer to code `exp/exp_informer.py function predict()` and `data/data_loader.py class Dataset_Pred`\n",
        "\n",
        "# exp = Exp(args)\n",
        "\n",
        "# exp.predict(setting, True)"
      ]
    },
    {
      "cell_type": "code",
      "execution_count": null,
      "metadata": {
        "id": "KBCPbjGuzAZb"
      },
      "outputs": [],
      "source": [
        "# # the prediction will be saved in ./results/{setting}/real_prediction.npy\n",
        "# import numpy as np\n",
        "\n",
        "# prediction = np.load('./results/'+setting+'/real_prediction.npy')\n",
        "\n",
        "# prediction.shape"
      ]
    },
    {
      "cell_type": "code",
      "execution_count": null,
      "metadata": {
        "id": "Tf1UiaD3u7ps"
      },
      "outputs": [],
      "source": [
        "# # here is the detailed code of function predict\n",
        "\n",
        "# def predict(exp, setting, load=False):\n",
        "#     pred_data, pred_loader = exp._get_data(flag='pred')\n",
        "\n",
        "#     if load:\n",
        "#         path = os.path.join(exp.args.checkpoints, setting)\n",
        "#         best_model_path = path+'/'+'checkpoint.pth'\n",
        "#         exp.model.load_state_dict(torch.load(best_model_path))\n",
        "\n",
        "#     exp.model.eval()\n",
        "\n",
        "#     preds = []\n",
        "\n",
        "#     for i, (batch_x,batch_y,batch_x_mark,batch_y_mark) in enumerate(pred_loader):\n",
        "#         batch_x = batch_x.float().to(exp.device)\n",
        "#         batch_y = batch_y.float()\n",
        "#         batch_x_mark = batch_x_mark.float().to(exp.device)\n",
        "#         batch_y_mark = batch_y_mark.float().to(exp.device)\n",
        "\n",
        "#         # decoder input\n",
        "#         if exp.args.padding==0:\n",
        "#             dec_inp = torch.zeros([batch_y.shape[0], exp.args.pred_len, batch_y.shape[-1]]).float()\n",
        "#         elif exp.args.padding==1:\n",
        "#             dec_inp = torch.ones([batch_y.shape[0], exp.args.pred_len, batch_y.shape[-1]]).float()\n",
        "#         else:\n",
        "#             dec_inp = torch.zeros([batch_y.shape[0], exp.args.pred_len, batch_y.shape[-1]]).float()\n",
        "#         dec_inp = torch.cat([batch_y[:,:exp.args.label_len,:], dec_inp], dim=1).float().to(exp.device)\n",
        "#         # encoder - decoder\n",
        "#         if exp.args.use_amp:\n",
        "#             with torch.cuda.amp.autocast():\n",
        "#                 if exp.args.output_attention:\n",
        "#                     outputs = exp.model(batch_x, batch_x_mark, dec_inp, batch_y_mark)[0]\n",
        "#                 else:\n",
        "#                     outputs = exp.model(batch_x, batch_x_mark, dec_inp, batch_y_mark)\n",
        "#         else:\n",
        "#             if exp.args.output_attention:\n",
        "#                 outputs = exp.model(batch_x, batch_x_mark, dec_inp, batch_y_mark)[0]\n",
        "#             else:\n",
        "#                 outputs = exp.model(batch_x, batch_x_mark, dec_inp, batch_y_mark)\n",
        "#         f_dim = -1 if exp.args.features=='MS' else 0\n",
        "#         batch_y = batch_y[:,-exp.args.pred_len:,f_dim:].to(exp.device)\n",
        "\n",
        "#         pred = outputs.detach().cpu().numpy()#.squeeze()\n",
        "\n",
        "#         preds.append(pred)\n",
        "\n",
        "#     preds = np.array(preds)\n",
        "#     preds = preds.reshape(-1, preds.shape[-2], preds.shape[-1])\n",
        "\n",
        "#     # result save\n",
        "#     folder_path = './results/' + setting +'/'\n",
        "#     if not os.path.exists(folder_path):\n",
        "#         os.makedirs(folder_path)\n",
        "\n",
        "#     np.save(folder_path+'real_prediction.npy', preds)\n",
        "\n",
        "#     return preds\n"
      ]
    },
    {
      "cell_type": "code",
      "execution_count": null,
      "metadata": {
        "id": "g6fJ4-I4vDhb"
      },
      "outputs": [],
      "source": [
        "# # you can also use this prediction function to get result\n",
        "# prediction = predict(exp, setting, True)"
      ]
    },
    {
      "cell_type": "code",
      "execution_count": null,
      "metadata": {
        "id": "vfYaChZYvEwG"
      },
      "outputs": [],
      "source": [
        "# import matplotlib.pyplot as plt\n",
        "\n",
        "# plt.figure()\n",
        "# plt.plot(prediction[0,:,-1])\n",
        "# plt.show()"
      ]
    },
    {
      "cell_type": "code",
      "execution_count": null,
      "metadata": {
        "id": "sHXExU3CvhUO"
      },
      "outputs": [],
      "source": [
        "# from data.data_loader import Dataset_Pred\n",
        "# from torch.utils.data import DataLoader"
      ]
    },
    {
      "cell_type": "code",
      "execution_count": null,
      "metadata": {
        "id": "UXhil3DCvi0-"
      },
      "outputs": [],
      "source": [
        "# Data = Dataset_Pred\n",
        "# timeenc = 0 if args.embed!='timeF' else 1\n",
        "# flag = 'pred'; shuffle_flag = False; drop_last = False; batch_size = 1\n",
        "\n",
        "# freq = args.detail_freq\n",
        "\n",
        "# data_set = Data(\n",
        "#     root_path=args.root_path,\n",
        "#     data_path=args.data_path,\n",
        "#     flag=flag,\n",
        "#     size=[args.seq_len, args.label_len, args.pred_len],\n",
        "#     features=args.features,\n",
        "#     target=args.target,\n",
        "#     timeenc=timeenc,\n",
        "#     freq=freq\n",
        "# )\n",
        "# data_loader = DataLoader(\n",
        "#     data_set,\n",
        "#     batch_size=batch_size,\n",
        "#     shuffle=shuffle_flag,\n",
        "#     num_workers=args.num_workers,\n",
        "#     drop_last=drop_last)"
      ]
    },
    {
      "cell_type": "code",
      "execution_count": null,
      "metadata": {
        "id": "e5GPS2mNvk5F"
      },
      "outputs": [],
      "source": [
        "# len(data_set), len(data_loader)"
      ]
    },
    {
      "cell_type": "markdown",
      "metadata": {
        "id": "XWnqZh1uvUJt"
      },
      "source": [
        "## Visualization"
      ]
    },
    {
      "cell_type": "code",
      "execution_count": null,
      "metadata": {
        "id": "geAy_t9zvTMd"
      },
      "outputs": [],
      "source": [
        "# # When we finished exp.train(setting) and exp.test(setting), we will get a trained model and the results of test experiment\n",
        "# # The results of test experiment will be saved in ./results/{setting}/pred.npy (prediction of test dataset) and ./results/{setting}/true.npy (groundtruth of test dataset)\n",
        "\n",
        "# #preds = np.load('./results/'+setting+'/pred.npy')\n",
        "# preds = np.load('./results/'+setting+'/real_prediction.npy')\n",
        "# trues = np.load('./results/'+setting+'/true.npy')\n",
        "\n",
        "# # [samples, pred_len, dimensions]\n",
        "# preds.shape, trues.shape"
      ]
    },
    {
      "cell_type": "code",
      "execution_count": null,
      "metadata": {
        "id": "MoVCOXmWvqf3"
      },
      "outputs": [],
      "source": [
        "# import matplotlib.pyplot as plt\n",
        "# import seaborn as sns"
      ]
    },
    {
      "cell_type": "code",
      "execution_count": null,
      "metadata": {
        "id": "AHopbvTzvrd3"
      },
      "outputs": [],
      "source": [
        "# # draw LT prediction\n",
        "# plt.figure()\n",
        "# plt.plot(trues[0,:,-1], label='GroundTruth')\n",
        "# plt.plot(preds[0,:,-1], label='realPrediction')\n",
        "# plt.plot(prediction[0,:,-1], label='Prediction')\n",
        "# plt.legend()\n",
        "# plt.show()"
      ]
    },
    {
      "cell_type": "code",
      "execution_count": null,
      "metadata": {
        "id": "7Ppzj2qAvyA2"
      },
      "outputs": [],
      "source": [
        "# plt.figure()\n",
        "# plt.plot(trues[0,:,0], label='GroundTruth')\n",
        "# plt.plot(preds[0,:,0], label='Prediction')\n",
        "# plt.legend()\n",
        "# plt.show()"
      ]
    }
  ],
  "metadata": {
    "accelerator": "GPU",
    "colab": {
      "provenance": []
    },
    "kernelspec": {
      "display_name": "Python 3",
      "name": "python3"
    },
    "language_info": {
      "name": "python"
    }
  },
  "nbformat": 4,
  "nbformat_minor": 0
}
